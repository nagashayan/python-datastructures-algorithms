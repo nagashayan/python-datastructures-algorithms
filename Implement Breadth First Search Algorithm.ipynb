{
 "cells": [
  {
   "cell_type": "markdown",
   "metadata": {},
   "source": [
    "# Implement a Breadth First Search Algorithm"
   ]
  },
  {
   "cell_type": "markdown",
   "metadata": {},
   "source": [
    "For this problem, implement a BFS Algorithm! You can assume that the graph is in the simplified form:"
   ]
  },
  {
   "cell_type": "code",
   "execution_count": 3,
   "metadata": {
    "collapsed": true
   },
   "outputs": [],
   "source": [
    "graph = {'A': set(['B', 'C']),\n",
    "         'B': set(['A', 'D', 'E']),\n",
    "         'C': set(['A', 'F']),\n",
    "         'D': set(['B']),\n",
    "         'E': set(['B', 'F']),\n",
    "         'F': set(['C', 'E'])}\n"
   ]
  },
  {
   "cell_type": "code",
   "execution_count": 23,
   "metadata": {},
   "outputs": [],
   "source": [
    "def bfs(start, graph):\n",
    "    \n",
    "    \n",
    "    frontier = [start]\n",
    "    i = 1\n",
    "    parent = {start:0}\n",
    "    level = {start:0}\n",
    "    \n",
    "    while frontier:\n",
    "        \n",
    "        next = []\n",
    "        for u in frontier:\n",
    "            \n",
    "            for v in graph[u]:\n",
    "                if v not in level:\n",
    "                    print(v)\n",
    "                    level[v] = i\n",
    "                    parent[v] = u\n",
    "\n",
    "                    next.append(v)\n",
    "\n",
    "            frontier = next\n",
    "            i =i +1\n",
    "    "
   ]
  },
  {
   "cell_type": "code",
   "execution_count": 10,
   "metadata": {
    "collapsed": true
   },
   "outputs": [],
   "source": [
    "def bfs1(start, graph):\n",
    "    \n",
    "    frontier = [start]\n",
    "    i = 1\n",
    "    parent = {start:0}\n",
    "    visited = set()\n",
    "    \n",
    "    while frontier:\n",
    "        \n",
    "        vertex = frontier.pop(0)\n",
    "        \n",
    "        if vertex not in visited:\n",
    "            \n",
    "            visited.add(vertex)\n",
    "            print(visited)\n",
    "            frontier.extend(graph[vertex] - visited)\n",
    "            \n",
    "    return visited  \n",
    "        "
   ]
  },
  {
   "cell_type": "code",
   "execution_count": 11,
   "metadata": {},
   "outputs": [
    {
     "ename": "NameError",
     "evalue": "name 'bfs' is not defined",
     "output_type": "error",
     "traceback": [
      "\u001b[0;31m---------------------------------------------------------------------------\u001b[0m",
      "\u001b[0;31mNameError\u001b[0m                                 Traceback (most recent call last)",
      "\u001b[0;32m<ipython-input-11-ac08410877f0>\u001b[0m in \u001b[0;36m<module>\u001b[0;34m()\u001b[0m\n\u001b[0;32m----> 1\u001b[0;31m \u001b[0mbfs\u001b[0m\u001b[0;34m(\u001b[0m\u001b[0;34m'A'\u001b[0m\u001b[0;34m,\u001b[0m\u001b[0mgraph\u001b[0m\u001b[0;34m)\u001b[0m\u001b[0;34m\u001b[0m\u001b[0m\n\u001b[0m",
      "\u001b[0;31mNameError\u001b[0m: name 'bfs' is not defined"
     ]
    }
   ],
   "source": [
    "bfs('A',graph)"
   ]
  },
  {
   "cell_type": "code",
   "execution_count": 12,
   "metadata": {},
   "outputs": [
    {
     "name": "stdout",
     "output_type": "stream",
     "text": [
      "{'A'}\n",
      "{'B', 'A'}\n",
      "{'B', 'C', 'A'}\n",
      "{'B', 'C', 'E', 'A'}\n",
      "{'B', 'A', 'D', 'E', 'C'}\n",
      "{'B', 'A', 'D', 'E', 'C', 'F'}\n"
     ]
    },
    {
     "data": {
      "text/plain": [
       "{'A', 'B', 'C', 'D', 'E', 'F'}"
      ]
     },
     "execution_count": 12,
     "metadata": {},
     "output_type": "execute_result"
    }
   ],
   "source": [
    "bfs1('A',graph)"
   ]
  },
  {
   "cell_type": "code",
   "execution_count": 13,
   "metadata": {},
   "outputs": [
    {
     "name": "stdout",
     "output_type": "stream",
     "text": [
      "{'A'}\n",
      "{'B', 'A'}\n",
      "{'B', 'C', 'A'}\n",
      "{'B', 'C', 'E', 'A'}\n",
      "{'B', 'A', 'D', 'E', 'C'}\n",
      "{'B', 'A', 'D', 'E', 'C', 'F'}\n"
     ]
    },
    {
     "data": {
      "text/plain": [
       "{'A', 'B', 'C', 'D', 'E', 'F'}"
      ]
     },
     "execution_count": 13,
     "metadata": {},
     "output_type": "execute_result"
    }
   ],
   "source": [
    "bfs1('A',graph)"
   ]
  },
  {
   "cell_type": "markdown",
   "metadata": {},
   "source": [
    "# Good Luck!"
   ]
  }
 ],
 "metadata": {
  "kernelspec": {
   "display_name": "Python 3",
   "language": "python",
   "name": "python3"
  },
  "language_info": {
   "codemirror_mode": {
    "name": "ipython",
    "version": 3
   },
   "file_extension": ".py",
   "mimetype": "text/x-python",
   "name": "python",
   "nbconvert_exporter": "python",
   "pygments_lexer": "ipython3",
   "version": "3.6.2"
  }
 },
 "nbformat": 4,
 "nbformat_minor": 1
}
