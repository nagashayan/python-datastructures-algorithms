{
 "cells": [
  {
   "cell_type": "markdown",
   "metadata": {},
   "source": [
    "# Recursion Homework Problems \n",
    "\n",
    "This assignment is a variety of small problems to begin you getting used to the idea of recursion. They are not full-blown interview questions, but do serve as a great start for getting your mind \"in the zone\" for recursion problems.\n",
    "\n",
    "\n",
    "______\n",
    "### Problem 1\n",
    "\n",
    "**Write a recursive function which takes an integer and computes the cumulative sum of 0 to that integer**\n",
    "\n",
    "**For example, if n=4 , return 4+3+2+1+0, which is 10.**\n",
    "\n",
    "This problem is very similar to the factorial problem presented during the introduction to recursion. Remember, always think of what the base case will look like. In this case, we have a base case of n =0 (Note, you could have also designed the cut off to be 1).\n",
    "\n",
    "In this case, we have:\n",
    "   n + (n-1) + (n-2) + .... + 0\n",
    "\n",
    "Fill out a sample solution:"
   ]
  },
  {
   "cell_type": "code",
   "execution_count": 3,
   "metadata": {
    "collapsed": true
   },
   "outputs": [],
   "source": [
    "def rec_sum(n):\n",
    "    \n",
    "    if n == 1:\n",
    "        return 1\n",
    "    else:\n",
    "        return n + rec_sum(n-1)"
   ]
  },
  {
   "cell_type": "code",
   "execution_count": 4,
   "metadata": {},
   "outputs": [
    {
     "data": {
      "text/plain": [
       "10"
      ]
     },
     "execution_count": 4,
     "metadata": {},
     "output_type": "execute_result"
    }
   ],
   "source": [
    "rec_sum(4)"
   ]
  },
  {
   "cell_type": "markdown",
   "metadata": {},
   "source": [
    "______\n",
    "### Problem 2\n",
    "\n",
    "**Given an integer, create a function which returns the sum of all the individual digits in that integer. For example:\n",
    "if n = 4321, return 4+3+2+1**"
   ]
  },
  {
   "cell_type": "code",
   "execution_count": 7,
   "metadata": {
    "collapsed": true
   },
   "outputs": [],
   "source": [
    "def sum_func(n):\n",
    "    \n",
    "    if n % 10 == 0:\n",
    "        \n",
    "        return n\n",
    "    \n",
    "    else:\n",
    "        \n",
    "        f = n % 10\n",
    "        s = n // 10\n",
    "        \n",
    "        return f + sum_func(s)"
   ]
  },
  {
   "cell_type": "code",
   "execution_count": 8,
   "metadata": {},
   "outputs": [
    {
     "data": {
      "text/plain": [
       "10"
      ]
     },
     "execution_count": 8,
     "metadata": {},
     "output_type": "execute_result"
    }
   ],
   "source": [
    "sum_func(4321)"
   ]
  },
  {
   "cell_type": "markdown",
   "metadata": {},
   "source": [
    "*Hints:*"
   ]
  },
  {
   "cell_type": "code",
   "execution_count": 13,
   "metadata": {},
   "outputs": [
    {
     "data": {
      "text/plain": [
       "1"
      ]
     },
     "execution_count": 13,
     "metadata": {},
     "output_type": "execute_result"
    }
   ],
   "source": [
    "# You'll neeed to use modulo\n",
    "4321%10"
   ]
  },
  {
   "cell_type": "code",
   "execution_count": 14,
   "metadata": {},
   "outputs": [
    {
     "data": {
      "text/plain": [
       "432"
      ]
     },
     "execution_count": 14,
     "metadata": {},
     "output_type": "execute_result"
    }
   ],
   "source": [
    "4321 / 10"
   ]
  },
  {
   "cell_type": "markdown",
   "metadata": {
    "collapsed": true
   },
   "source": [
    "We'll need to think of this function recursively by knowing that:\n",
    "4502 % 10 + sum_func(4502/10)"
   ]
  },
  {
   "cell_type": "markdown",
   "metadata": {},
   "source": [
    "________\n",
    "### Problem 3\n",
    "*Note, this is a more advanced problem than the previous two! It aso has a lot of variation possibilities and we're ignoring strict requirements here.*\n",
    "\n",
    "Create a function called word_split() which takes in a string **phrase** and a set **list_of_words**. The function will then determine if it is possible to split the string in a way in which words can be made from the list of words. You can assume the phrase will only contain words found in the dictionary if it is completely splittable.\n",
    "\n",
    "For example:"
   ]
  },
  {
   "cell_type": "code",
   "execution_count": 55,
   "metadata": {},
   "outputs": [
    {
     "name": "stdout",
     "output_type": "stream",
     "text": [
      "None 0 0  6\n",
      "theman 1\n",
      "t\n",
      "incr j\n",
      "[] 0 1 t 6\n",
      "theman 2\n",
      "th\n",
      "incr j\n",
      "[] 0 2 th 6\n",
      "theman 3\n",
      "the\n",
      "found word ['the']\n",
      "incr j\n",
      "['the'] 0 3 the 6\n",
      "theman 4\n",
      "them\n",
      "incr j\n",
      "['the'] 0 4 them 6\n",
      "theman 5\n",
      "thema\n",
      "incr j\n",
      "['the'] 0 5 thema 6\n",
      "theman 6\n",
      "theman\n",
      "incr j\n",
      "['the'] 0 6 theman 6\n",
      "true\n",
      "['the'] 1 0  6\n",
      "theman 0\n",
      "\n",
      "incr j\n",
      "['the'] 1 0  6\n",
      "theman 1\n",
      "t\n",
      "incr j\n",
      "['the'] 1 1 t 6\n",
      "theman 2\n",
      "th\n",
      "incr j\n",
      "['the'] 1 2 th 6\n",
      "theman 3\n",
      "the\n",
      "found word ['the', 'the']\n",
      "incr j\n",
      "['the', 'the'] 1 3 the 6\n",
      "theman 4\n",
      "them\n",
      "incr j\n",
      "['the', 'the'] 1 4 them 6\n",
      "theman 5\n",
      "thema\n",
      "incr j\n",
      "['the', 'the'] 1 5 thema 6\n",
      "theman 6\n",
      "theman\n",
      "incr j\n",
      "['the', 'the'] 1 6 theman 6\n",
      "true\n",
      "['the', 'the'] 2 0  6\n",
      "theman 0\n",
      "\n",
      "incr j\n",
      "['the', 'the'] 2 0  6\n",
      "theman 1\n",
      "t\n",
      "incr j\n",
      "['the', 'the'] 2 1 t 6\n",
      "theman 2\n",
      "th\n",
      "incr j\n",
      "['the', 'the'] 2 2 th 6\n",
      "theman 3\n",
      "the\n",
      "found word ['the', 'the', 'the']\n",
      "incr j\n",
      "['the', 'the', 'the'] 2 3 the 6\n",
      "theman 4\n",
      "them\n",
      "incr j\n",
      "['the', 'the', 'the'] 2 4 them 6\n",
      "theman 5\n",
      "thema\n",
      "incr j\n",
      "['the', 'the', 'the'] 2 5 thema 6\n",
      "theman 6\n",
      "theman\n",
      "incr j\n",
      "['the', 'the', 'the'] 2 6 theman 6\n",
      "true\n",
      "['the', 'the', 'the'] 3 0  6\n"
     ]
    },
    {
     "data": {
      "text/plain": [
       "['the', 'the', 'the']"
      ]
     },
     "execution_count": 55,
     "metadata": {},
     "output_type": "execute_result"
    }
   ],
   "source": [
    "word_split('theman',['the','ran','man'],0,1,\"\")"
   ]
  },
  {
   "cell_type": "code",
   "execution_count": 33,
   "metadata": {},
   "outputs": [
    {
     "data": {
      "text/plain": [
       "['i', 'love', 'dogs', 'John']"
      ]
     },
     "execution_count": 33,
     "metadata": {},
     "output_type": "execute_result"
    }
   ],
   "source": [
    "word_split('ilovedogsJohn',['i','am','a','dogs','lover','love','John'])"
   ]
  },
  {
   "cell_type": "code",
   "execution_count": 39,
   "metadata": {},
   "outputs": [
    {
     "ename": "TypeError",
     "evalue": "word_split() missing 3 required positional arguments: 'i', 'j', and 'temp'",
     "output_type": "error",
     "traceback": [
      "\u001b[0;31m---------------------------------------------------------------------------\u001b[0m",
      "\u001b[0;31mTypeError\u001b[0m                                 Traceback (most recent call last)",
      "\u001b[0;32m<ipython-input-39-fc0d7ae76a52>\u001b[0m in \u001b[0;36m<module>\u001b[0;34m()\u001b[0m\n\u001b[0;32m----> 1\u001b[0;31m \u001b[0mword_split\u001b[0m\u001b[0;34m(\u001b[0m\u001b[0;34m'themanran'\u001b[0m\u001b[0;34m,\u001b[0m\u001b[0;34m[\u001b[0m\u001b[0;34m'clown'\u001b[0m\u001b[0;34m,\u001b[0m\u001b[0;34m'ran'\u001b[0m\u001b[0;34m,\u001b[0m\u001b[0;34m'man'\u001b[0m\u001b[0;34m]\u001b[0m\u001b[0;34m)\u001b[0m\u001b[0;34m\u001b[0m\u001b[0m\n\u001b[0m",
      "\u001b[0;31mTypeError\u001b[0m: word_split() missing 3 required positional arguments: 'i', 'j', and 'temp'"
     ]
    }
   ],
   "source": [
    "word_split('themanran',['clown','ran','man'])"
   ]
  },
  {
   "cell_type": "code",
   "execution_count": 53,
   "metadata": {},
   "outputs": [],
   "source": [
    "def word_split(phrase,list_of_words,i, j, temp, output = None):\n",
    "    \n",
    "    print(output,i,len(temp),temp,len(phrase))\n",
    "    if output is None:\n",
    "        output = []\n",
    "    if i == len(list_of_words):\n",
    "        \n",
    "        return output\n",
    "    else:\n",
    "        \n",
    "\n",
    "        if j > len(phrase):\n",
    "            print(\"true\")\n",
    "\n",
    "            i += 1 \n",
    "            j = 0\n",
    "\n",
    "            return word_split(phrase, list_of_words, i, j, \"\", output)\n",
    "\n",
    "        print(phrase,j)\n",
    "        \n",
    "        temp = phrase[:j]\n",
    "        print(temp)\n",
    "        if temp in list_of_words:\n",
    "\n",
    "            output.append(temp)\n",
    "            \n",
    "            print(\"found word\",output)\n",
    "            \n",
    "            return word_split(phrase, list_of_words, i, j, temp, output)\n",
    "\n",
    "        print(\"incr j\")    \n",
    "        j += 1\n",
    "\n",
    "        return word_split(phrase, list_of_words, i, j, temp, output)      "
   ]
  },
  {
   "cell_type": "markdown",
   "metadata": {},
   "source": [
    "## Good Luck!\n",
    "\n",
    "Check out the Solutions Notebook once you're done!"
   ]
  }
 ],
 "metadata": {
  "kernelspec": {
   "display_name": "Python 3",
   "language": "python",
   "name": "python3"
  },
  "language_info": {
   "codemirror_mode": {
    "name": "ipython",
    "version": 3
   },
   "file_extension": ".py",
   "mimetype": "text/x-python",
   "name": "python",
   "nbconvert_exporter": "python",
   "pygments_lexer": "ipython3",
   "version": "3.6.2"
  }
 },
 "nbformat": 4,
 "nbformat_minor": 1
}
