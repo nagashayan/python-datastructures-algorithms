{
 "cells": [
  {
   "cell_type": "code",
   "execution_count": 16,
   "metadata": {
    "collapsed": true
   },
   "outputs": [],
   "source": [
    "arr = [5,2,6,3,8,7, 1]"
   ]
  },
  {
   "cell_type": "code",
   "execution_count": 17,
   "metadata": {},
   "outputs": [
    {
     "data": {
      "text/plain": [
       "[5, 2, 6, 3, 8, 7, 1]"
      ]
     },
     "execution_count": 17,
     "metadata": {},
     "output_type": "execute_result"
    }
   ],
   "source": [
    "arr"
   ]
  },
  {
   "cell_type": "code",
   "execution_count": 35,
   "metadata": {},
   "outputs": [],
   "source": [
    "def shell_sort(arr):\n",
    "    \n",
    "    sublist_count = len(arr) // 2\n",
    "    while sublist_count > 0:\n",
    "        \n",
    "        for start in range(len(arr)):\n",
    "            #print(\"in\")\n",
    "            gap_insertionsort(arr,start,sublist_count)\n",
    "            \n",
    "        sublist_count = sublist_count // 2\n",
    "        print(sublist_count)\n",
    "    return arr\n",
    "    "
   ]
  },
  {
   "cell_type": "code",
   "execution_count": 36,
   "metadata": {},
   "outputs": [],
   "source": [
    "def gap_insertionsort(arr,start,gap):\n",
    "    \n",
    "    for i in range(start+gap,len(arr),gap):\n",
    "        \n",
    "        currentvalue = arr[i]\n",
    "        position = i\n",
    "        #print(i)\n",
    "        while position >= gap and arr[position - gap] > currentvalue:\n",
    "            \n",
    "            #print(position)\n",
    "            arr[position] = arr[position-gap]\n",
    "            \n",
    "            position = position - gap\n",
    "            \n",
    "        arr[position] = currentvalue\n",
    "        \n",
    "    return arr\n",
    "    \n",
    "    \n",
    "    "
   ]
  },
  {
   "cell_type": "code",
   "execution_count": 37,
   "metadata": {},
   "outputs": [
    {
     "name": "stdout",
     "output_type": "stream",
     "text": [
      "1\n",
      "0\n"
     ]
    },
    {
     "data": {
      "text/plain": [
       "[1, 2, 3, 5, 6, 7, 8]"
      ]
     },
     "execution_count": 37,
     "metadata": {},
     "output_type": "execute_result"
    }
   ],
   "source": [
    "shell_sort(arr)"
   ]
  },
  {
   "cell_type": "code",
   "execution_count": null,
   "metadata": {
    "collapsed": true
   },
   "outputs": [],
   "source": []
  }
 ],
 "metadata": {
  "kernelspec": {
   "display_name": "Python 3",
   "language": "python",
   "name": "python3"
  },
  "language_info": {
   "codemirror_mode": {
    "name": "ipython",
    "version": 3
   },
   "file_extension": ".py",
   "mimetype": "text/x-python",
   "name": "python",
   "nbconvert_exporter": "python",
   "pygments_lexer": "ipython3",
   "version": "3.6.2"
  }
 },
 "nbformat": 4,
 "nbformat_minor": 2
}
