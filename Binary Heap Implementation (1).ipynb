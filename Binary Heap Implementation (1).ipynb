{
 "cells": [
  {
   "cell_type": "markdown",
   "metadata": {},
   "source": [
    "# Binary Heap Implementation\n",
    "\n",
    "Here is the reference code for the Binary Heap Implementation. Make sure to refer to the video lecture for the full explanation!"
   ]
  },
  {
   "cell_type": "markdown",
   "metadata": {},
   "source": [
    "### Binary Heap Operations\n",
    "**The basic operations we will implement for our binary heap are as follows:**\n",
    "\n",
    "* BinaryHeap() creates a new, empty, binary heap.\n",
    "* insert(k) adds a new item to the heap.\n",
    "* findMin() returns the item with the minimum key value, leaving item in the heap.\n",
    "* delMin() returns the item with the minimum key value, removing the item from the heap.\n",
    "* isEmpty() returns true if the heap is empty, false otherwise.\n",
    "* size() returns the number of items in the heap.\n",
    "* buildHeap(list) builds a new heap from a list of keys."
   ]
  },
  {
   "cell_type": "code",
   "execution_count": 26,
   "metadata": {
    "collapsed": true
   },
   "outputs": [],
   "source": [
    "class BinaryHeap:\n",
    "    \n",
    "    def __init__(self):\n",
    "        \n",
    "        self.heap = [0]\n",
    "        self.cur_size = 0\n",
    "    \n",
    "    def percup(self):\n",
    "        \n",
    "        print(self.heap[self.cur_size])\n",
    "        \n",
    "        i = self.cur_size\n",
    "        \n",
    "        while i > 1 and self.heap[i] < self.heap[i//2]:\n",
    "            \n",
    "            temp = self.heap[i//2]\n",
    "            self.heap[i//2] = self.heap[i]\n",
    "            self.heap[i] = temp\n",
    "            \n",
    "            i = i // 2\n",
    "        \n",
    "        \n",
    "        \n",
    "    def insert(self,k):\n",
    "        \n",
    "        self.heap.append(k)\n",
    "        self.cur_size = self.cur_size + 1\n",
    "        self.percup()\n",
    "        \n",
    "    def display(self):\n",
    "        return(self.heap)\n"
   ]
  },
  {
   "cell_type": "code",
   "execution_count": 34,
   "metadata": {},
   "outputs": [
    {
     "name": "stdout",
     "output_type": "stream",
     "text": [
      "[0]\n",
      "5\n",
      "[0, 5]\n",
      "18\n",
      "9\n",
      "11\n",
      "14\n",
      "19\n",
      "21\n",
      "4\n",
      "[0, 4, 5, 9, 11, 14, 19, 21, 18]\n"
     ]
    }
   ],
   "source": [
    "heap = BinaryHeap()\n",
    "print(heap.display())\n",
    "heap.insert(5)\n",
    "print(heap.display())\n",
    "heap.insert(18)\n",
    "\n",
    "heap.insert(9)\n",
    "heap.insert(11)\n",
    "heap.insert(14)\n",
    "#heap.insert(18)\n",
    "heap.insert(19)\n",
    "heap.insert(21)\n",
    "heap.insert(4)\n",
    "\n",
    "print(heap.display())\n"
   ]
  },
  {
   "cell_type": "code",
   "execution_count": null,
   "metadata": {
    "collapsed": true
   },
   "outputs": [],
   "source": []
  }
 ],
 "metadata": {
  "kernelspec": {
   "display_name": "Python 3",
   "language": "python",
   "name": "python3"
  },
  "language_info": {
   "codemirror_mode": {
    "name": "ipython",
    "version": 3
   },
   "file_extension": ".py",
   "mimetype": "text/x-python",
   "name": "python",
   "nbconvert_exporter": "python",
   "pygments_lexer": "ipython3",
   "version": "3.6.2"
  }
 },
 "nbformat": 4,
 "nbformat_minor": 1
}
